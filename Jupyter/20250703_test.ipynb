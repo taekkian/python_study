{
 "cells": [
  {
   "cell_type": "code",
   "execution_count": 13,
   "id": "6a860b24",
   "metadata": {},
   "outputs": [
    {
     "data": {
      "text/plain": [
       "50"
      ]
     },
     "execution_count": 13,
     "metadata": {},
     "output_type": "execute_result"
    }
   ],
   "source": [
    "max(10, 50)"
   ]
  },
  {
   "cell_type": "code",
   "execution_count": 15,
   "id": "559e2270",
   "metadata": {},
   "outputs": [
    {
     "data": {
      "text/plain": [
       "10"
      ]
     },
     "execution_count": 15,
     "metadata": {},
     "output_type": "execute_result"
    }
   ],
   "source": [
    "min(10, 50)"
   ]
  },
  {
   "cell_type": "code",
   "execution_count": 17,
   "id": "801ed974",
   "metadata": {},
   "outputs": [
    {
     "data": {
      "text/plain": [
       "2.0"
      ]
     },
     "execution_count": 17,
     "metadata": {},
     "output_type": "execute_result"
    }
   ],
   "source": [
    "from math import *\n",
    "sqrt(4)"
   ]
  },
  {
   "cell_type": "code",
   "execution_count": 22,
   "id": "86df7982",
   "metadata": {},
   "outputs": [
    {
     "name": "stdout",
     "output_type": "stream",
     "text": [
      "만나서 반갑습니다. 씨\n",
      "네 그러면 당신은 이미 살이시군요.씨!\n"
     ]
    }
   ],
   "source": [
    "name = input(\"이름은 무엇인가요?\")\n",
    "print(\"만나서 반갑습니다. \" + name + \"씨\")\n",
    "age = input(\"나이는요?\")\n",
    "print(\"네 그러면 당신은 이미 \" + age + \"살이시군요.\" + name + \"씨!\")"
   ]
  },
  {
   "cell_type": "code",
   "execution_count": 26,
   "id": "d53309ed",
   "metadata": {},
   "outputs": [
    {
     "name": "stdout",
     "output_type": "stream",
     "text": [
      "합은  \n"
     ]
    }
   ],
   "source": [
    "x = input(\"첫 번째 정수: \")\n",
    "y = input(\"두 번째 정수: \")\n",
    "sum = x + y\n",
    "print(\"합은 \", sum)"
   ]
  },
  {
   "cell_type": "code",
   "execution_count": 36,
   "id": "40adc1ca",
   "metadata": {},
   "outputs": [
    {
     "name": "stdout",
     "output_type": "stream",
     "text": [
      "doesn't\n",
      "\"Yes,\" he said\n",
      "첫 번째 줄\n",
      "두 번재 줄\n"
     ]
    }
   ],
   "source": [
    "message = 'doesn\\'t'\n",
    "print(message)\n",
    "message = \"\\\"Yes,\\\" he said\"\n",
    "print(message)\n",
    "\n",
    "a = \"첫 번째 줄\\n두 번재 줄\"\n",
    "print(a)"
   ]
  },
  {
   "cell_type": "code",
   "execution_count": 39,
   "id": "16f683a4",
   "metadata": {},
   "outputs": [
    {
     "name": "stdout",
     "output_type": "stream",
     "text": [
      "상품의 가격은 10000원입니다.\n"
     ]
    }
   ],
   "source": [
    "price = 10000\n",
    "print(\"상품의 가격은 %s원입니다.\" %price)"
   ]
  },
  {
   "cell_type": "code",
   "execution_count": 41,
   "id": "447733b8",
   "metadata": {},
   "outputs": [
    {
     "name": "stdout",
     "output_type": "stream",
     "text": [
      "현재 시간은 12.00pm 입니다.\n"
     ]
    }
   ],
   "source": [
    "message = \"현재 시간은 %s 입니다.\"\n",
    "time = \"12.00pm\"\n",
    "print(message %time)"
   ]
  },
  {
   "cell_type": "code",
   "execution_count": 45,
   "id": "786b142a",
   "metadata": {},
   "outputs": [
    {
     "name": "stdout",
     "output_type": "stream",
     "text": [
      "오늘은 3월 1일입니다.\n"
     ]
    }
   ],
   "source": [
    "message = \"오늘은 %d월 %d일입니다.\"\n",
    "print(message %(3, 1))"
   ]
  },
  {
   "cell_type": "code",
   "execution_count": 47,
   "id": "92dce292",
   "metadata": {},
   "outputs": [
    {
     "name": "stdout",
     "output_type": "stream",
     "text": [
      "지금 시간은 오후 1시입니다. 그리고 온도는 25입니다.\n"
     ]
    }
   ],
   "source": [
    "message = \"지금 시간은 %s입니다. 그리고 온도는 %d입니다.\"\n",
    "time = \"오후 1시\"\n",
    "temp = 25\n",
    "print(message %(time, temp))"
   ]
  },
  {
   "cell_type": "code",
   "execution_count": 50,
   "id": "7522258d",
   "metadata": {},
   "outputs": [
    {
     "name": "stdout",
     "output_type": "stream",
     "text": [
      "오늘은 7월 3일입니다.\n"
     ]
    }
   ],
   "source": [
    "month = int(input(\"몇 월 ?\"))\n",
    "day = int(input(\"몇 일 ?\"))\n",
    "message = \"오늘은 %d월 %d일입니다.\"\n",
    "print(message %(month, day))"
   ]
  }
 ],
 "metadata": {
  "kernelspec": {
   "display_name": "Python 3",
   "language": "python",
   "name": "python3"
  },
  "language_info": {
   "codemirror_mode": {
    "name": "ipython",
    "version": 3
   },
   "file_extension": ".py",
   "mimetype": "text/x-python",
   "name": "python",
   "nbconvert_exporter": "python",
   "pygments_lexer": "ipython3",
   "version": "3.13.0"
  }
 },
 "nbformat": 4,
 "nbformat_minor": 5
}
