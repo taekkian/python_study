{
 "cells": [
  {
   "cell_type": "code",
   "execution_count": null,
   "id": "442624ec",
   "metadata": {},
   "outputs": [
    {
     "name": "stdout",
     "output_type": "stream",
     "text": [
      "합 15\n",
      "차 5\n",
      "곱 50\n",
      "평균 7\n",
      "큰 수 10\n",
      "작은 수 5\n",
      "15 \n",
      " 5\n"
     ]
    }
   ],
   "source": [
    "x = int(input(\"첫 번째? \"))\n",
    "y = int(input(\"두 번째? \"))\n",
    "sum = x + y\n",
    "sub = x - y\n",
    "mul = x * y\n",
    "avg = sum / 2\n",
    "num_max = max (x, y)\n",
    "num_min = min (x, y)\n",
    "\n",
    "print(\"합 %d\" %sum)\n",
    "print(\"차 %d\" %sub)\n",
    "print(\"곱 %d\" %mul)\n",
    "print(\"평균 %d\" %avg)\n",
    "print(\"큰 수 %d\" %num_max)\n",
    "print(\"작은 수 %d\" %num_min)\n",
    "\n"
   ]
  }
 ],
 "metadata": {
  "kernelspec": {
   "display_name": "Python 3",
   "language": "python",
   "name": "python3"
  },
  "language_info": {
   "codemirror_mode": {
    "name": "ipython",
    "version": 3
   },
   "file_extension": ".py",
   "mimetype": "text/x-python",
   "name": "python",
   "nbconvert_exporter": "python",
   "pygments_lexer": "ipython3",
   "version": "3.13.0"
  }
 },
 "nbformat": 4,
 "nbformat_minor": 5
}
